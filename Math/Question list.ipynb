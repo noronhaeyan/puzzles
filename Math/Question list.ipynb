{
 "cells": [
  {
   "cell_type": "markdown",
   "id": "2d3027bb",
   "metadata": {},
   "source": [
    "## 1. Completing a $3 \\times 3$ correlation matrix\n",
    "\n",
    "Given the $3 \\times 3$ correlation matrix below, find the range of values for $\\gamma$\n",
    "\n",
    "$$\\begin{bmatrix} 1 & 0.6 & 0.8\\\\0.6 & 1 & \\gamma \\\\ 0.8 & \\gamma & 1  \\end{bmatrix}$$ \n",
    "\n",
    "Hint: https://eyanlearning.blogspot.com/p/math-general-knowledge.html\n",
    "\n",
    "Solution: https://stats.stackexchange.com/questions/254282/completing-a-3-times-3-correlation-matrix-2-coefficients-of-the-3-given"
   ]
  },
  {
   "cell_type": "markdown",
   "id": "774cc334",
   "metadata": {},
   "source": [
    "## 2. Coefficient Swap\n",
    "Suppose that we have two datasets $X$ and $Y$ with $Var(X)=10$ and $Var(Y)=20$. We perform the linear regression $y∼\\alpha_x+\\beta_x x$ and obtain $\\beta_x = 1$. Suppose now that we perform the regression $x∼\\alpha_y+\\beta_y y$. Find $\\beta_y$."
   ]
  },
  {
   "cell_type": "code",
   "execution_count": null,
   "id": "b509ab39",
   "metadata": {},
   "outputs": [],
   "source": []
  }
 ],
 "metadata": {
  "kernelspec": {
   "display_name": "Python 3 (ipykernel)",
   "language": "python",
   "name": "python3"
  },
  "language_info": {
   "codemirror_mode": {
    "name": "ipython",
    "version": 3
   },
   "file_extension": ".py",
   "mimetype": "text/x-python",
   "name": "python",
   "nbconvert_exporter": "python",
   "pygments_lexer": "ipython3",
   "version": "3.9.2"
  }
 },
 "nbformat": 4,
 "nbformat_minor": 5
}
