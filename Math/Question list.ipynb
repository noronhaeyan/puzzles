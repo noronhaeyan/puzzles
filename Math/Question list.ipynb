{
 "cells": [
  {
   "cell_type": "markdown",
   "id": "2d3027bb",
   "metadata": {},
   "source": [
    "## 1. Completing a $3 \\times 3$ correlation matrix\n",
    "\n",
    "Given the $3 \\times 3$ correlation matrix below, find the range of values for $\\gamma$\n",
    "\n",
    "$$\\begin{bmatrix} 1 & 0.6 & 0.8\\\\0.6 & 1 & \\gamma \\\\ 0.8 & \\gamma & 1  \\end{bmatrix}$$ \n",
    "\n",
    "Hint: https://eyanlearning.blogspot.com/p/math-general-knowledge.html\n",
    "\n",
    "Solution: https://stats.stackexchange.com/questions/254282/completing-a-3-times-3-correlation-matrix-2-coefficients-of-the-3-given"
   ]
  },
  {
   "cell_type": "markdown",
   "id": "774cc334",
   "metadata": {},
   "source": [
    "## 2. Coefficient Swap\n",
    "Suppose that we have two datasets $X$ and $Y$ with $Var(X)=10$ and $Var(Y)=20$. We perform the linear regression $y∼\\alpha_x+\\beta_x x$ and obtain $\\beta_x = 1$. Suppose now that we perform the regression $x∼\\alpha_y+\\beta_y y$. Find $\\beta_y$."
   ]
  },
  {
   "cell_type": "markdown",
   "id": "79d9c3ca",
   "metadata": {},
   "source": [
    "# 3. Sequences\n",
    "Assume that\n",
    "\n",
    "$(x_i)_{i=1}^{n}$ and $(y_i)_{i=1}^{n}$\n",
    "\n",
    "are two strictly decreasing sequences of real numbers. Find the permutation $\\sigma$ of ${1,2,..n}$ that minimizes\n",
    "\n",
    "$$\\sum_{i=1}^{n} (x_i - y_{\\sigma(i)})^2$$\n",
    "\n",
    "Hint: Q24 Challenging Brainteasers for Interviews, Rados, Ivan, Dan"
   ]
  },
  {
   "cell_type": "markdown",
   "id": "d9da9279",
   "metadata": {},
   "source": [
    "# 4. Stars and bars"
   ]
  },
  {
   "cell_type": "markdown",
   "id": "7d0e5f0a",
   "metadata": {},
   "source": [
    "What is the number of ways of placing n identical objects into k distinguisable bins such that each bin contains atleast 1 object?\n",
    "\n",
    "Solution: \n",
    "\n",
    "$$ \\binom{N-1}{k-1} $$\n",
    "\n",
    "Approach 1: place N object in a straight line on the table. There are $N-1$ gaps in between them. The problem then becomes placing $k-1$ bars in between those gaps, which can be done in $\\binom{N-1}{k-1}$ ways \n",
    "\n",
    "Approach 2: This is also similar to finding the coefficient of $x^{N-k}$ in $(1 - x)^{-k}$\n",
    "\n"
   ]
  },
  {
   "cell_type": "markdown",
   "id": "f1d448a7",
   "metadata": {},
   "source": [
    "# 5. Stirling numbers of the second kind"
   ]
  },
  {
   "cell_type": "markdown",
   "id": "b736039b",
   "metadata": {},
   "source": [
    "How many ways to distribute $N$ distinct objects into $k$ identical bins with no empty bin \n",
    "\n",
    "Solution:\n",
    "$$S(n, k)$$\n",
    "where $S(n,k)$ is Stirling number of second kind.\n",
    "\n",
    "S(n, k) satisfies the following recurrence relationship:\n",
    "$$ S(n,k) = S(n-1, k-1) + k * S(n-1, k).$$\n",
    "\n",
    "To prove the above reccurence, consider a single object to be fixed, and then consider where the remaining objects go. There are two cases:\n",
    "\n",
    "Case 1: The fixed object is in its own bin. \n",
    "\n",
    "There are $n−1$ remaining objects to be distributed into $r−1$ bins, which gives $S(n−1,r−1)$ distributions for this case.\n",
    "\n",
    "Case 2: The fixed object is in a bin with other objects.\n",
    "The remaining $n−1$ objects are distributed into $r$ bins, which gives $S(n−1,r)$ distributions. For each of these distributions, there are $r$ ways to group the fixed object with the other objects. Thus, there are $rS(n−1,r)$ distributions for this case.\n"
   ]
  },
  {
   "cell_type": "code",
   "execution_count": null,
   "id": "4289419c",
   "metadata": {},
   "outputs": [],
   "source": []
  }
 ],
 "metadata": {
  "kernelspec": {
   "display_name": "Python 3 (ipykernel)",
   "language": "python",
   "name": "python3"
  },
  "language_info": {
   "codemirror_mode": {
    "name": "ipython",
    "version": 3
   },
   "file_extension": ".py",
   "mimetype": "text/x-python",
   "name": "python",
   "nbconvert_exporter": "python",
   "pygments_lexer": "ipython3",
   "version": "3.9.2"
  }
 },
 "nbformat": 4,
 "nbformat_minor": 5
}
