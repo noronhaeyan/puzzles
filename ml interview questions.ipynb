{
 "cells": [
  {
   "cell_type": "markdown",
   "id": "3e4e6ef2",
   "metadata": {},
   "source": [
    "# Machine learning"
   ]
  },
  {
   "cell_type": "markdown",
   "id": "531a57ba",
   "metadata": {},
   "source": [
    "#### What is clustering?\n",
    "\n",
    "Clustering is the task of dividing the population or data points into a number of groups such that data points in the same groups are more similar to other data points in the same group and dissimilar to the data points in other groups. It is basically a collection of objects on the basis of similarity and dissimilarity between them."
   ]
  },
  {
   "cell_type": "markdown",
   "id": "5df20d86",
   "metadata": {},
   "source": [
    "#### How to identify the optimal number of clusters?\n",
    "\n",
    "1. Using the \"Elbow method\": Plot the error as a function number of clusters. Choose the number of cluster after which the error decreases in a linear manner. For a reference plot see: https://media.geeksforgeeks.org/wp-content/uploads/20230418184707/download-(8).png\n",
    "2. Bias-variance trade-off\n",
    "3. k-fold cross validation"
   ]
  },
  {
   "cell_type": "code",
   "execution_count": null,
   "id": "35951d90",
   "metadata": {},
   "outputs": [],
   "source": []
  },
  {
   "cell_type": "markdown",
   "id": "0636ac0b",
   "metadata": {},
   "source": [
    "# Statistics"
   ]
  },
  {
   "cell_type": "code",
   "execution_count": null,
   "id": "1510ca8c",
   "metadata": {},
   "outputs": [],
   "source": []
  },
  {
   "cell_type": "code",
   "execution_count": null,
   "id": "efde6d1a",
   "metadata": {},
   "outputs": [],
   "source": []
  },
  {
   "cell_type": "markdown",
   "id": "765f7d91",
   "metadata": {},
   "source": [
    "# General"
   ]
  },
  {
   "cell_type": "markdown",
   "id": "e69eab31",
   "metadata": {},
   "source": [
    "#### What is a garbage collector?\n",
    "\n",
    "Garbage collector (GC) is a form of automatic memory management.\n",
    "\n",
    "The GC attempts to reclaim memory which was allocated by the program but is no longer referenced.\n",
    "\n",
    "Advantages of GC:\n",
    "1. Frees developers from having to manually release memory\n",
    "2. Avoids memory leaks, in which a program fails to free memory occupied by objects that have become unrechable.\n",
    "\n",
    "Disadvantages of GC:\n",
    "1. GC uses computing resources to decide which memory to free, which impair performance\n",
    "2. Unpredictability in memory management"
   ]
  },
  {
   "cell_type": "markdown",
   "id": "75313c7e",
   "metadata": {},
   "source": [
    "#### What is the difference between a CPU and a GPU?\n",
    "\n",
    "The main difference is that CPU is designed to handle a wide-range of tasks quickly, but are limited in the concurrency of tasks.\n",
    "\n",
    "Generally speaking, GPUs are much faster than CPUs at highly parallel simple tasks like multiplying big matrices.\n",
    "\n",
    "GPUs are designed to make rendering of 3D images more efficient."
   ]
  }
 ],
 "metadata": {
  "kernelspec": {
   "display_name": "Python 3 (ipykernel)",
   "language": "python",
   "name": "python3"
  },
  "language_info": {
   "codemirror_mode": {
    "name": "ipython",
    "version": 3
   },
   "file_extension": ".py",
   "mimetype": "text/x-python",
   "name": "python",
   "nbconvert_exporter": "python",
   "pygments_lexer": "ipython3",
   "version": "3.9.2"
  }
 },
 "nbformat": 4,
 "nbformat_minor": 5
}
