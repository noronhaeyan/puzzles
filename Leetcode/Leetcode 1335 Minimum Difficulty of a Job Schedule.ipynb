{
 "cells": [
  {
   "cell_type": "code",
   "execution_count": 9,
   "id": "127f2632",
   "metadata": {},
   "outputs": [],
   "source": [
    "from typing import List\n",
    "from functools import cache\n",
    "\n",
    "class Solution:\n",
    "    def minDifficulty(self, jobDifficulty: List[int], d: int) -> int:\n",
    "        \n",
    "        n = len(jobDifficulty)\n",
    "        \n",
    "        if n < d:\n",
    "            return -1\n",
    "        \n",
    "        hardestJob = [0]*n\n",
    "        hardness = 0\n",
    "        \n",
    "        for i in range(n-1, -1, -1):\n",
    "            hardness = max(hardness, jobDifficulty[i])\n",
    "            hardestJob[i] = hardness   \n",
    "        \n",
    "        @cache\n",
    "        def dp(idx, dayRem):\n",
    "            \n",
    "            if dayRem == 1:\n",
    "                return hardestJob[idx]\n",
    "            \n",
    "            difficulty = 0\n",
    "            output = float('inf')\n",
    "            for i in range(idx, n - dayRem + 1):\n",
    "                difficulty = max(difficulty, jobDifficulty[i])\n",
    "                output = min(output, difficulty + dp(i + 1, dayRem - 1))\n",
    "            \n",
    "            return output\n",
    "        \n",
    "        return dp(0, d)"
   ]
  },
  {
   "cell_type": "markdown",
   "id": "9d1c43d0",
   "metadata": {},
   "source": [
    "## Test"
   ]
  },
  {
   "cell_type": "code",
   "execution_count": 10,
   "id": "07972eda",
   "metadata": {},
   "outputs": [],
   "source": [
    "aa = Solution()"
   ]
  },
  {
   "cell_type": "code",
   "execution_count": 11,
   "id": "751a9b6b",
   "metadata": {},
   "outputs": [],
   "source": [
    "jobDifficulty = [6,5,4,3,2,1]\n",
    "d = 2\n",
    "\n",
    "assert aa.minDifficulty(jobDifficulty, d) == 7"
   ]
  },
  {
   "cell_type": "code",
   "execution_count": 12,
   "id": "4c4def6a",
   "metadata": {},
   "outputs": [],
   "source": [
    "jobDifficulty = [9,9,9]\n",
    "d = 4\n",
    "\n",
    "assert aa.minDifficulty(jobDifficulty, d) == -1"
   ]
  },
  {
   "cell_type": "code",
   "execution_count": 13,
   "id": "68d08a41",
   "metadata": {},
   "outputs": [],
   "source": [
    "jobDifficulty = [1,1,1]\n",
    "d = 3\n",
    "\n",
    "assert aa.minDifficulty(jobDifficulty, d) == 3"
   ]
  }
 ],
 "metadata": {
  "kernelspec": {
   "display_name": "Python 3 (ipykernel)",
   "language": "python",
   "name": "python3"
  },
  "language_info": {
   "codemirror_mode": {
    "name": "ipython",
    "version": 3
   },
   "file_extension": ".py",
   "mimetype": "text/x-python",
   "name": "python",
   "nbconvert_exporter": "python",
   "pygments_lexer": "ipython3",
   "version": "3.9.2"
  }
 },
 "nbformat": 4,
 "nbformat_minor": 5
}
