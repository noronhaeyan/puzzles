{
 "cells": [
  {
   "cell_type": "code",
   "execution_count": 1,
   "id": "6221a388",
   "metadata": {},
   "outputs": [],
   "source": [
    "from typing import List\n",
    "\n",
    "class Solution:\n",
    "    def generateParenthesis(self, n: int) -> List[str]:\n",
    "        \n",
    "        output = []\n",
    "        \n",
    "        left = n\n",
    "        right = 0\n",
    "        \n",
    "        curr = []\n",
    "        \n",
    "        def dfs(left, right):\n",
    "            if len(curr) == 2 * n:\n",
    "                output.append(\"\".join(curr))\n",
    "                return\n",
    "            \n",
    "            if left > 0:\n",
    "                curr.append('(')\n",
    "                dfs(left-1, right+1)\n",
    "                curr.pop()\n",
    "            \n",
    "            if right > 0:\n",
    "                curr.append(')')\n",
    "                dfs(left, right-1)\n",
    "                curr.pop()\n",
    "        \n",
    "        dfs(n,0)\n",
    "        \n",
    "        return output\n",
    "        "
   ]
  },
  {
   "cell_type": "code",
   "execution_count": 10,
   "id": "3da7d4f6",
   "metadata": {},
   "outputs": [],
   "source": [
    "from collections import deque\n",
    "\n",
    "class Solution:\n",
    "    def generateParenthesis(self, n: int) -> List[str]:\n",
    "        \n",
    "        output = []\n",
    "        \n",
    "        left = n\n",
    "        right = 0\n",
    "        \n",
    "        #bfs approach\n",
    "        queue = deque()\n",
    "        queue.append((\"\", n, 0))\n",
    "        while queue:\n",
    "            curr, left, right = queue.pop()\n",
    "            \n",
    "            if left == 0 and right == 0:\n",
    "                output.append(curr)\n",
    "            \n",
    "            if left > 0:\n",
    "                queue.append((curr+\"(\", left-1, right+1))\n",
    "            if right > 0:\n",
    "                queue.append((curr+\")\", left, right-1))        \n",
    "        \n",
    "        return output"
   ]
  },
  {
   "cell_type": "code",
   "execution_count": 7,
   "id": "edca60ff",
   "metadata": {},
   "outputs": [
    {
     "data": {
      "text/plain": [
       "(1, 2, 3)"
      ]
     },
     "execution_count": 7,
     "metadata": {},
     "output_type": "execute_result"
    }
   ],
   "source": [
    "(1,2,3)"
   ]
  },
  {
   "cell_type": "markdown",
   "id": "53583920",
   "metadata": {},
   "source": [
    "## Test"
   ]
  },
  {
   "cell_type": "code",
   "execution_count": 11,
   "id": "f7978518",
   "metadata": {},
   "outputs": [],
   "source": [
    "aa = Solution()\n",
    "\n",
    "assert aa.generateParenthesis(n = 1) == [\"()\"]"
   ]
  },
  {
   "cell_type": "code",
   "execution_count": 14,
   "id": "5fde76f9",
   "metadata": {},
   "outputs": [],
   "source": [
    "assert set(aa.generateParenthesis(n = 3)) == set([\"((()))\",\"(()())\",\"(())()\",\"()(())\",\"()()()\"])"
   ]
  },
  {
   "cell_type": "code",
   "execution_count": null,
   "id": "6b59e235",
   "metadata": {},
   "outputs": [],
   "source": []
  }
 ],
 "metadata": {
  "kernelspec": {
   "display_name": "Python 3 (ipykernel)",
   "language": "python",
   "name": "python3"
  },
  "language_info": {
   "codemirror_mode": {
    "name": "ipython",
    "version": 3
   },
   "file_extension": ".py",
   "mimetype": "text/x-python",
   "name": "python",
   "nbconvert_exporter": "python",
   "pygments_lexer": "ipython3",
   "version": "3.9.2"
  }
 },
 "nbformat": 4,
 "nbformat_minor": 5
}
