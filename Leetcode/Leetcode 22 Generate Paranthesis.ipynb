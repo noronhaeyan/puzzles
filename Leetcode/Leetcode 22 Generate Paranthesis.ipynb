{
 "cells": [
  {
   "cell_type": "code",
   "execution_count": 1,
   "id": "b8d773bd",
   "metadata": {},
   "outputs": [],
   "source": [
    "from typing import List\n",
    "\n",
    "class Solution:\n",
    "    def generateParenthesis(self, n: int) -> List[str]:\n",
    "        \n",
    "        output = []\n",
    "        \n",
    "        left = n\n",
    "        right = 0\n",
    "        \n",
    "        curr = []\n",
    "        \n",
    "        def dfs(left, right):\n",
    "            if len(curr) == 2 * n:\n",
    "                output.append(\"\".join(curr))\n",
    "                return\n",
    "            \n",
    "            if left > 0:\n",
    "                curr.append('(')\n",
    "                dfs(left-1, right+1)\n",
    "                curr.pop()\n",
    "            \n",
    "            if right > 0:\n",
    "                curr.append(')')\n",
    "                dfs(left, right-1)\n",
    "                curr.pop()\n",
    "        \n",
    "        dfs(n,0)\n",
    "        \n",
    "        return output\n",
    "        "
   ]
  },
  {
   "cell_type": "markdown",
   "id": "ccd47553",
   "metadata": {},
   "source": [
    "## Test"
   ]
  },
  {
   "cell_type": "code",
   "execution_count": 4,
   "id": "ba42e871",
   "metadata": {},
   "outputs": [],
   "source": [
    "aa = Solution()\n",
    "\n",
    "assert aa.generateParenthesis(n = 1) == [\"()\"]"
   ]
  },
  {
   "cell_type": "code",
   "execution_count": 6,
   "id": "b20df00c",
   "metadata": {},
   "outputs": [],
   "source": [
    "assert aa.generateParenthesis(n = 3) == [\"((()))\",\"(()())\",\"(())()\",\"()(())\",\"()()()\"]"
   ]
  },
  {
   "cell_type": "code",
   "execution_count": null,
   "id": "49f02049",
   "metadata": {},
   "outputs": [],
   "source": []
  }
 ],
 "metadata": {
  "kernelspec": {
   "display_name": "Python 3 (ipykernel)",
   "language": "python",
   "name": "python3"
  },
  "language_info": {
   "codemirror_mode": {
    "name": "ipython",
    "version": 3
   },
   "file_extension": ".py",
   "mimetype": "text/x-python",
   "name": "python",
   "nbconvert_exporter": "python",
   "pygments_lexer": "ipython3",
   "version": "3.9.2"
  }
 },
 "nbformat": 4,
 "nbformat_minor": 5
}
