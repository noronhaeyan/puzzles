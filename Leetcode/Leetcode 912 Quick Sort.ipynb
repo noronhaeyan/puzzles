{
 "cells": [
  {
   "cell_type": "markdown",
   "id": "4a14e771",
   "metadata": {},
   "source": [
    "Implementing a Quick Sort algorithm in python.\n",
    "\n",
    "Wiki: https://en.wikipedia.org/wiki/Quicksort"
   ]
  },
  {
   "cell_type": "code",
   "execution_count": 4,
   "id": "e7d49735",
   "metadata": {},
   "outputs": [],
   "source": [
    "from typing import List"
   ]
  },
  {
   "cell_type": "code",
   "execution_count": 13,
   "id": "659a9c13",
   "metadata": {},
   "outputs": [],
   "source": [
    "class Solution:\n",
    "    def sortArray(self, nums: List[int]) -> List[int]:\n",
    "        \n",
    "        \n",
    "        def quickSort(nums, start, end):\n",
    "            \n",
    "            if start >= end:\n",
    "                return\n",
    "            \n",
    "            p = partition(nums, start, end)\n",
    "            \n",
    "            quickSort(nums, start, p-1)\n",
    "            quickSort(nums, p+1, end)\n",
    "        \n",
    "        \n",
    "        def partition(n, left, right):\n",
    "            \n",
    "            p = right\n",
    "            \n",
    "            while left < right:\n",
    "                \n",
    "                if n[left] <= n[p] and left < p:\n",
    "                    left += 1\n",
    "                    continue\n",
    "                    \n",
    "                if n[right] >= n[p] and right > p:\n",
    "                    right -= 1\n",
    "                    continue\n",
    "                \n",
    "                if n[left] > n[p]:\n",
    "                    n[left], n[p] = n[p], n[left]\n",
    "                    p = left\n",
    "                    continue\n",
    "                \n",
    "                if n[right] < n[p]:\n",
    "                    n[right], n[p] = n[p], n[right]\n",
    "                    p = right\n",
    "                    continue\n",
    "            \n",
    "            return p\n",
    "        \n",
    "        quickSort(nums, 0, len(nums) - 1)\n",
    "        \n",
    "        return nums"
   ]
  },
  {
   "cell_type": "markdown",
   "id": "ef43fdb3",
   "metadata": {},
   "source": [
    "# @Test"
   ]
  },
  {
   "cell_type": "code",
   "execution_count": 14,
   "id": "21378081",
   "metadata": {},
   "outputs": [
    {
     "name": "stdout",
     "output_type": "stream",
     "text": [
      "[1, 2, 3, 5]\n"
     ]
    }
   ],
   "source": [
    "nums = [5,2,3,1]\n",
    "output = [1,2,3,5]\n",
    "\n",
    "a = Solution()\n",
    "\n",
    "assert output == a.sortArray(nums)"
   ]
  },
  {
   "cell_type": "code",
   "execution_count": 15,
   "id": "99ad5831",
   "metadata": {},
   "outputs": [],
   "source": [
    "nums = [5,1,1,2,0,0]\n",
    "output = [0,0,1,1,2,5]\n",
    "\n",
    "a = Solution()\n",
    "\n",
    "assert output == a.sortArray(nums)"
   ]
  }
 ],
 "metadata": {
  "kernelspec": {
   "display_name": "Python 3 (ipykernel)",
   "language": "python",
   "name": "python3"
  },
  "language_info": {
   "codemirror_mode": {
    "name": "ipython",
    "version": 3
   },
   "file_extension": ".py",
   "mimetype": "text/x-python",
   "name": "python",
   "nbconvert_exporter": "python",
   "pygments_lexer": "ipython3",
   "version": "3.9.2"
  }
 },
 "nbformat": 4,
 "nbformat_minor": 5
}
