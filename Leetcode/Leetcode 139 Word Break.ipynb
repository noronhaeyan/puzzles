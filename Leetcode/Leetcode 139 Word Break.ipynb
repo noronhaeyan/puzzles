{
 "cells": [
  {
   "cell_type": "code",
   "execution_count": 5,
   "id": "68197e0d",
   "metadata": {},
   "outputs": [],
   "source": [
    "from typing import List\n",
    "from functools import cache\n",
    "\n",
    "class Solution:\n",
    "    def wordBreak(self, s: str, wordDict: List[str]) -> bool:\n",
    "\n",
    "        wordLen = [len(word) for word in wordDict]\n",
    "        sLen = len(s)\n",
    "\n",
    "        @cache\n",
    "        def dp(idx):\n",
    "\n",
    "            if idx == sLen:\n",
    "                return True\n",
    "\n",
    "            for i, word in enumerate(wordDict):\n",
    "                n = wordLen[i]\n",
    "                # print(s[idx:idx+n])\n",
    "                if idx+n<=sLen and word == s[idx:idx+n]:\n",
    "                    if dp(idx+n):\n",
    "                        return True\n",
    "                \n",
    "            return False\n",
    "        \n",
    "        return dp(0)"
   ]
  },
  {
   "cell_type": "markdown",
   "id": "4a6f356e",
   "metadata": {},
   "source": [
    "## Test"
   ]
  },
  {
   "cell_type": "code",
   "execution_count": 6,
   "id": "a6fb1677",
   "metadata": {},
   "outputs": [],
   "source": [
    "aa = Solution()"
   ]
  },
  {
   "cell_type": "code",
   "execution_count": 7,
   "id": "b6d7fa4f",
   "metadata": {},
   "outputs": [],
   "source": [
    "s = \"leetcode\"\n",
    "wordDict = [\"leet\",\"code\"]\n",
    "\n",
    "assert aa.wordBreak(s, wordDict)"
   ]
  },
  {
   "cell_type": "code",
   "execution_count": 8,
   "id": "0b5b9ab6",
   "metadata": {},
   "outputs": [],
   "source": [
    " s = \"applepenapple\"\n",
    "wordDict = [\"apple\",\"pen\"]\n",
    "\n",
    "assert aa.wordBreak(s, wordDict)"
   ]
  },
  {
   "cell_type": "code",
   "execution_count": 9,
   "id": "19e46511",
   "metadata": {},
   "outputs": [],
   "source": [
    "s = \"catsandog\"\n",
    "wordDict = [\"cats\",\"dog\",\"sand\",\"and\",\"cat\"]\n",
    "\n",
    "assert ~aa.wordBreak(s, wordDict)"
   ]
  },
  {
   "cell_type": "code",
   "execution_count": null,
   "id": "366061f6",
   "metadata": {},
   "outputs": [],
   "source": []
  }
 ],
 "metadata": {
  "kernelspec": {
   "display_name": "Python 3 (ipykernel)",
   "language": "python",
   "name": "python3"
  },
  "language_info": {
   "codemirror_mode": {
    "name": "ipython",
    "version": 3
   },
   "file_extension": ".py",
   "mimetype": "text/x-python",
   "name": "python",
   "nbconvert_exporter": "python",
   "pygments_lexer": "ipython3",
   "version": "3.9.2"
  }
 },
 "nbformat": 4,
 "nbformat_minor": 5
}
