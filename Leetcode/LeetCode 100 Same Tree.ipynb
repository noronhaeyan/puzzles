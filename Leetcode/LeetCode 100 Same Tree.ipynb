{
 "cells": [
  {
   "cell_type": "code",
   "execution_count": 4,
   "id": "9c16e6e4",
   "metadata": {},
   "outputs": [],
   "source": [
    "# Definition for a binary tree node.\n",
    "class TreeNode:\n",
    "    def __init__(self, val=0, left=None, right=None):\n",
    "        self.val = val\n",
    "        self.left = left\n",
    "        self.right = right\n",
    "\n",
    "from typing import Optional\n",
    "\n",
    "class Solution:\n",
    "    def isSameTree(self, p: Optional[TreeNode], q: Optional[TreeNode]) -> bool:\n",
    "        \n",
    "        def checkAndAppend(p,q):\n",
    "            if p is None and q is None:\n",
    "                return True\n",
    "            if p is None or q is None:\n",
    "                return False\n",
    "            if p.val == q.val:\n",
    "                queue.append((left_node.left, right_node.left))\n",
    "                queue.append((left_node.right, right_node.right))\n",
    "                return True\n",
    "            return False\n",
    "        \n",
    "        queue = deque()\n",
    "        queue.append((p,q))\n",
    "        \n",
    "        while queue:\n",
    "            left_node, right_node = queue.popleft()\n",
    "            \n",
    "            if not checkAndAppend(left_node, right_node):\n",
    "                return False\n",
    "            \n",
    "        return True"
   ]
  },
  {
   "cell_type": "code",
   "execution_count": null,
   "id": "b84e9c6e",
   "metadata": {},
   "outputs": [],
   "source": []
  }
 ],
 "metadata": {
  "kernelspec": {
   "display_name": "Python 3 (ipykernel)",
   "language": "python",
   "name": "python3"
  },
  "language_info": {
   "codemirror_mode": {
    "name": "ipython",
    "version": 3
   },
   "file_extension": ".py",
   "mimetype": "text/x-python",
   "name": "python",
   "nbconvert_exporter": "python",
   "pygments_lexer": "ipython3",
   "version": "3.9.2"
  }
 },
 "nbformat": 4,
 "nbformat_minor": 5
}
