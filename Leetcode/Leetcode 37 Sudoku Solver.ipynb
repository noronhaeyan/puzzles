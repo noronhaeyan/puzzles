{
 "cells": [
  {
   "cell_type": "code",
   "execution_count": 1,
   "id": "10dc8ff1",
   "metadata": {},
   "outputs": [],
   "source": [
    "from typing import List\n",
    "\n",
    "class Solution:\n",
    "    def solveSudoku(self, board: List[List[str]]) -> None:\n",
    "        \"\"\"\n",
    "        Do not return anything, modify board in-place instead.\n",
    "        \"\"\"\n",
    "        n = len(board)\n",
    "        m = len(board[0])\n",
    "        pos = []\n",
    "        \n",
    "        for i in range(n):\n",
    "            for j in range(m):\n",
    "                if board[i][j] == '.':\n",
    "                    pos.append((i,j))\n",
    "                    \n",
    "        def solution_set(row, col):\n",
    "            visited = set()\n",
    "            for i in range(n):\n",
    "                visited.add(board[i][col])\n",
    "            for j in range(m):\n",
    "                visited.add(board[row][j])\n",
    "            \n",
    "            block_i = row // 3\n",
    "            block_j = col // 3\n",
    "            \n",
    "            for i in range(3):\n",
    "                for j in range(3):\n",
    "                    visited.add(visited.add(board[block_i*3+i][block_j*3+j]))\n",
    "                    \n",
    "            output = []\n",
    "            sol_space = [\"1\", \"2\", \"3\", \"4\", \"5\", \"6\", \"7\", \"8\", \"9\"]\n",
    "            \n",
    "            for sol in sol_space:\n",
    "                if sol not in visited:\n",
    "                    output.append(sol)\n",
    "                    \n",
    "            return output\n",
    "        \n",
    "        def print_board():\n",
    "            for i in range(n):\n",
    "                print(board[i])\n",
    "        \n",
    "        def dfs():\n",
    "            if not pos:\n",
    "                return\n",
    "            \n",
    "            row, col = pos.pop()\n",
    "            \n",
    "            if len(pos) == 0:\n",
    "                print(\"current position row: %s, col: %s\" %(row, col))\n",
    "                print_board()\n",
    "            \n",
    "            candidate_space = solution_set(row, col)\n",
    "            \n",
    "            if len(pos) == 0:\n",
    "                print(\"candidate space:\", candidate_space)\n",
    "            \n",
    "            if len(candidate_space) == 0:\n",
    "                pos.append((row, col))\n",
    "                return\n",
    "                \n",
    "            \n",
    "            for candidate in candidate_space:\n",
    "                board[row][col] = candidate\n",
    "                dfs()\n",
    "                if not pos:\n",
    "                    return\n",
    "\n",
    "            board[row][col] = \".\"\n",
    "            pos.append((row, col))\n",
    "            \n",
    "        dfs()   "
   ]
  },
  {
   "cell_type": "markdown",
   "id": "251efd97",
   "metadata": {},
   "source": [
    "## Test"
   ]
  },
  {
   "cell_type": "code",
   "execution_count": 4,
   "id": "8d191c9f",
   "metadata": {},
   "outputs": [],
   "source": [
    "a = Solution()"
   ]
  },
  {
   "cell_type": "code",
   "execution_count": 8,
   "id": "e0e6a8ff",
   "metadata": {},
   "outputs": [
    {
     "name": "stdout",
     "output_type": "stream",
     "text": [
      "current position row: 0, col: 2\n",
      "['5', '3', '.', '6', '7', '8', '9', '1', '2']\n",
      "['6', '7', '2', '1', '9', '5', '3', '4', '8']\n",
      "['1', '9', '8', '3', '4', '2', '5', '6', '7']\n",
      "['8', '5', '9', '7', '6', '1', '4', '2', '3']\n",
      "['4', '2', '6', '8', '5', '3', '7', '9', '1']\n",
      "['7', '1', '3', '9', '2', '4', '8', '5', '6']\n",
      "['9', '6', '1', '5', '3', '7', '2', '8', '4']\n",
      "['2', '8', '7', '4', '1', '9', '6', '3', '5']\n",
      "['3', '4', '5', '2', '8', '6', '1', '7', '9']\n",
      "candidate space: ['4']\n"
     ]
    }
   ],
   "source": [
    "board = [[\"5\",\"3\",\".\",\".\",\"7\",\".\",\".\",\".\",\".\"],[\"6\",\".\",\".\",\"1\",\"9\",\"5\",\".\",\".\",\".\"],[\".\",\"9\",\"8\",\".\",\".\",\".\",\".\",\"6\",\".\"],[\"8\",\".\",\".\",\".\",\"6\",\".\",\".\",\".\",\"3\"],[\"4\",\".\",\".\",\"8\",\".\",\"3\",\".\",\".\",\"1\"],[\"7\",\".\",\".\",\".\",\"2\",\".\",\".\",\".\",\"6\"],[\".\",\"6\",\".\",\".\",\".\",\".\",\"2\",\"8\",\".\"],[\".\",\".\",\".\",\"4\",\"1\",\"9\",\".\",\".\",\"5\"],[\".\",\".\",\".\",\".\",\"8\",\".\",\".\",\"7\",\"9\"]]\n",
    "output = [[\"5\",\"3\",\"4\",\"6\",\"7\",\"8\",\"9\",\"1\",\"2\"],[\"6\",\"7\",\"2\",\"1\",\"9\",\"5\",\"3\",\"4\",\"8\"],[\"1\",\"9\",\"8\",\"3\",\"4\",\"2\",\"5\",\"6\",\"7\"],[\"8\",\"5\",\"9\",\"7\",\"6\",\"1\",\"4\",\"2\",\"3\"],[\"4\",\"2\",\"6\",\"8\",\"5\",\"3\",\"7\",\"9\",\"1\"],[\"7\",\"1\",\"3\",\"9\",\"2\",\"4\",\"8\",\"5\",\"6\"],[\"9\",\"6\",\"1\",\"5\",\"3\",\"7\",\"2\",\"8\",\"4\"],[\"2\",\"8\",\"7\",\"4\",\"1\",\"9\",\"6\",\"3\",\"5\"],[\"3\",\"4\",\"5\",\"2\",\"8\",\"6\",\"1\",\"7\",\"9\"]]\n",
    "\n",
    "a.solveSudoku(board)\n",
    "\n",
    "assert  board == output"
   ]
  },
  {
   "cell_type": "code",
   "execution_count": null,
   "id": "6a78c4bf",
   "metadata": {},
   "outputs": [],
   "source": []
  }
 ],
 "metadata": {
  "kernelspec": {
   "display_name": "Python 3 (ipykernel)",
   "language": "python",
   "name": "python3"
  },
  "language_info": {
   "codemirror_mode": {
    "name": "ipython",
    "version": 3
   },
   "file_extension": ".py",
   "mimetype": "text/x-python",
   "name": "python",
   "nbconvert_exporter": "python",
   "pygments_lexer": "ipython3",
   "version": "3.9.2"
  }
 },
 "nbformat": 4,
 "nbformat_minor": 5
}
