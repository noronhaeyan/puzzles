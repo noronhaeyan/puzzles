{
 "cells": [
  {
   "cell_type": "code",
   "execution_count": 1,
   "id": "c3f78070",
   "metadata": {},
   "outputs": [],
   "source": [
    "from typing import List\n",
    "\n",
    "import pdb"
   ]
  },
  {
   "cell_type": "code",
   "execution_count": 2,
   "id": "7234b7e5",
   "metadata": {},
   "outputs": [],
   "source": [
    "class Solution:\n",
    "    def searchMatrix(self, matrix: List[List[int]], target: int) -> bool:\n",
    "        \n",
    "        n = len(matrix)\n",
    "        m = len(matrix[0])\n",
    "        \n",
    "        max_j = m - 1\n",
    "        \n",
    "        for i in range(n):\n",
    "            for j in range(m):\n",
    "                \n",
    "                if matrix[i][j] > target:\n",
    "                    max_j = j\n",
    "                    \n",
    "                    if max_j == 1:\n",
    "                        break\n",
    "                    continue\n",
    "                \n",
    "                if j >= max_j:\n",
    "                    continue\n",
    "                \n",
    "                if matrix[i][j] == target:\n",
    "                    return True\n",
    "                \n",
    "        \n",
    "        return False"
   ]
  },
  {
   "cell_type": "code",
   "execution_count": 6,
   "id": "3e76be0c",
   "metadata": {},
   "outputs": [],
   "source": [
    "class Solution:\n",
    "    def searchMatrix(self, matrix: list[list[int]], target: int) -> bool:\n",
    "        \n",
    "        def helper(start_i, end_i, start_j, end_j):\n",
    "            \n",
    "            if (start_i == end_i) and (start_j == end_j):\n",
    "                return target == matrix[start_i, start_j]\n",
    "            \n",
    "            mid_j = start_j + (end_j - start_j) // 2\n",
    "            \n",
    "            mid_i = start_i + (end_i - start_i) // 2\n",
    "            \n",
    "            \n",
    "            print(mid_i, mid_j)\n",
    "            \n",
    "            #return False\n",
    "            if matrix[mid_i][mid_j] == target:\n",
    "                return True\n",
    "            pdb.set_trace()\n",
    "            if matrix[mid_i][mid_j] < target:\n",
    "                return helper(mid_i, end_i, mid_j, end_j) or helper(mid_i, end_i, start_j, mid_j) or helper(start_i, mid_i, mid_j, end_j)\n",
    "            \n",
    "            if matrix[mid_i][mid_j] > target:\n",
    "                return helper(start_i, mid_i, start_j, mid_j) or helper(mid_i, end_i, start_j, mid_j) or helper(start_i, mid_i, mid_j, end_j)\n",
    "            \n",
    "        return helper(0, len(matrix)-1, 0, len(matrix[0])-1)"
   ]
  },
  {
   "cell_type": "code",
   "execution_count": 32,
   "id": "799dee61",
   "metadata": {},
   "outputs": [],
   "source": [
    "class Solution:\n",
    "    def searchMatrix(self, matrix: list[list[int]], target: int) -> bool:\n",
    "        \n",
    "        def helper(start_i, end_i, start_j, end_j):\n",
    "            \n",
    "            if start_i > end_i or start_j > end_j:\n",
    "                return False\n",
    "            \n",
    "            if matrix[start_i][start_j] == target:\n",
    "                return True\n",
    "            \n",
    "            mid_j = start_j + (end_j - start_j) // 2\n",
    "            \n",
    "            mid_i = start_i\n",
    "            \n",
    "            while mid_i < end_i + 1:\n",
    "                \n",
    "                if matrix[mid_i][mid_j] == target:\n",
    "                    return True\n",
    "                \n",
    "                if matrix[mid_i][mid_j] > target:\n",
    "                    break\n",
    "                \n",
    "                mid_i += 1\n",
    "                    \n",
    "            print(mid_i, mid_j)\n",
    "            \n",
    "            #return False\n",
    "            \n",
    "            return helper(mid_i, end_i, start_j, mid_j - 1) or helper(start_i, mid_i - 1, mid_j + 1, end_j)\n",
    "            \n",
    "        return helper(0, len(matrix)-1, 0, len(matrix[0])-1)"
   ]
  },
  {
   "cell_type": "markdown",
   "id": "ccf310c1",
   "metadata": {},
   "source": [
    "## @Test"
   ]
  },
  {
   "cell_type": "code",
   "execution_count": 33,
   "id": "981cd556",
   "metadata": {},
   "outputs": [
    {
     "name": "stdout",
     "output_type": "stream",
     "text": [
      "0 2\n",
      "3 0\n"
     ]
    }
   ],
   "source": [
    "matrix = [[1,4,7,11,15],[2,5,8,12,19],[3,6,9,16,22],[10,13,14,17,24],[18,21,23,26,30]] \n",
    "target = 5\n",
    "\n",
    "a = Solution()\n",
    "\n",
    "assert a.searchMatrix(matrix, target)"
   ]
  },
  {
   "cell_type": "code",
   "execution_count": 34,
   "id": "14734e9c",
   "metadata": {},
   "outputs": [
    {
     "name": "stdout",
     "output_type": "stream",
     "text": [
      "4 2\n",
      "5 0\n",
      "4 1\n",
      "4 3\n",
      "2 4\n"
     ]
    }
   ],
   "source": [
    "matrix = [[1,4,7,11,15],[2,5,8,12,19],[3,6,9,16,22],[10,13,14,17,24],[18,21,23,26,30]] \n",
    "target = 20\n",
    "\n",
    "a = Solution()\n",
    "\n",
    "assert a.searchMatrix(matrix, target) == False"
   ]
  },
  {
   "cell_type": "code",
   "execution_count": 35,
   "id": "7cd0b2ed",
   "metadata": {},
   "outputs": [
    {
     "name": "stdout",
     "output_type": "stream",
     "text": [
      "1 0\n"
     ]
    }
   ],
   "source": [
    "matrix = [[-5]] \n",
    "target = 20\n",
    "\n",
    "a = Solution()\n",
    "\n",
    "assert a.searchMatrix(matrix, target) == False"
   ]
  },
  {
   "cell_type": "code",
   "execution_count": 36,
   "id": "3abd6394",
   "metadata": {},
   "outputs": [],
   "source": [
    "matrix = [[1, 1]] \n",
    "target = 1\n",
    "\n",
    "a = Solution()\n",
    "\n",
    "assert a.searchMatrix(matrix, target)"
   ]
  },
  {
   "cell_type": "code",
   "execution_count": null,
   "id": "43fbb3c5",
   "metadata": {},
   "outputs": [],
   "source": []
  }
 ],
 "metadata": {
  "kernelspec": {
   "display_name": "Python 3 (ipykernel)",
   "language": "python",
   "name": "python3"
  },
  "language_info": {
   "codemirror_mode": {
    "name": "ipython",
    "version": 3
   },
   "file_extension": ".py",
   "mimetype": "text/x-python",
   "name": "python",
   "nbconvert_exporter": "python",
   "pygments_lexer": "ipython3",
   "version": "3.9.2"
  }
 },
 "nbformat": 4,
 "nbformat_minor": 5
}
