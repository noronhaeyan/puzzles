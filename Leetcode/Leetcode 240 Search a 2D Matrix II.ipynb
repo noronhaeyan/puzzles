{
 "cells": [
  {
   "cell_type": "code",
   "execution_count": 1,
   "id": "e91a9303",
   "metadata": {},
   "outputs": [],
   "source": [
    "from typing import List\n",
    "\n",
    "import pdb"
   ]
  },
  {
   "cell_type": "code",
   "execution_count": 2,
   "id": "7234b7e5",
   "metadata": {},
   "outputs": [],
   "source": [
    "class Solution:\n",
    "    def searchMatrix(self, matrix: List[List[int]], target: int) -> bool:\n",
    "        \n",
    "        n = len(matrix)\n",
    "        m = len(matrix[0])\n",
    "        \n",
    "        max_j = m - 1\n",
    "        \n",
    "        for i in range(n):\n",
    "            for j in range(m):\n",
    "                \n",
    "                if matrix[i][j] > target:\n",
    "                    max_j = j\n",
    "                    \n",
    "                    if max_j == 1:\n",
    "                        break\n",
    "                    continue\n",
    "                \n",
    "                if j >= max_j:\n",
    "                    continue\n",
    "                \n",
    "                if matrix[i][j] == target:\n",
    "                    return True\n",
    "                \n",
    "        \n",
    "        return False"
   ]
  },
  {
   "cell_type": "code",
   "execution_count": 3,
   "id": "78063b4b",
   "metadata": {},
   "outputs": [],
   "source": [
    "# class Solution:\n",
    "#     def searchMatrix(self, matrix: list[list[int]], target: int) -> bool:\n",
    "        \n",
    "#         def helper(start_i, end_i, start_j, end_j):\n",
    "            \n",
    "#             if (start_i == end_i) and (start_j == end_j):\n",
    "#                 return target == matrix[start_i, start_j]\n",
    "            \n",
    "#             mid_i = start_i + (end_i - start_i) // 2\n",
    "#             mid_j = start_j + (end_j - start_j) // 2\n",
    "            \n",
    "#             print(mid_i, mid_j)\n",
    "            \n",
    "#             #return False\n",
    "#             if matrix[mid_i][mid_j] == target:\n",
    "#                 return True\n",
    "#             pdb.set_trace()\n",
    "#             if matrix[mid_i][mid_j] < target:\n",
    "#                 return helper(mid_i, end_i, mid_j, end_j) or helper(mid_i, end_i, start_j, mid_j) or helper(start_i, mid_i, mid_j, end_j)\n",
    "            \n",
    "#             if matrix[mid_i][mid_j] > target:\n",
    "#                 return helper(start_i, mid_i, start_j, mid_j) or helper(mid_i, end_i, start_j, mid_j) or helper(start_i, mid_i, mid_j, end_j)\n",
    "            \n",
    "#         return helper(0, len(matrix)-1, 0, len(matrix[0])-1)"
   ]
  },
  {
   "cell_type": "markdown",
   "id": "ccf310c1",
   "metadata": {},
   "source": [
    "## @Test"
   ]
  },
  {
   "cell_type": "code",
   "execution_count": 4,
   "id": "981cd556",
   "metadata": {},
   "outputs": [],
   "source": [
    "matrix = [[1,4,7,11,15],[2,5,8,12,19],[3,6,9,16,22],[10,13,14,17,24],[18,21,23,26,30]] \n",
    "target = 5\n",
    "\n",
    "a = Solution()\n",
    "\n",
    "assert a.searchMatrix(matrix, target)"
   ]
  },
  {
   "cell_type": "code",
   "execution_count": 5,
   "id": "14734e9c",
   "metadata": {},
   "outputs": [],
   "source": [
    "matrix = [[1,4,7,11,15],[2,5,8,12,19],[3,6,9,16,22],[10,13,14,17,24],[18,21,23,26,30]] \n",
    "target = 20\n",
    "\n",
    "a = Solution()\n",
    "\n",
    "assert a.searchMatrix(matrix, target) == False"
   ]
  }
 ],
 "metadata": {
  "kernelspec": {
   "display_name": "Python 3 (ipykernel)",
   "language": "python",
   "name": "python3"
  },
  "language_info": {
   "codemirror_mode": {
    "name": "ipython",
    "version": 3
   },
   "file_extension": ".py",
   "mimetype": "text/x-python",
   "name": "python",
   "nbconvert_exporter": "python",
   "pygments_lexer": "ipython3",
   "version": "3.9.2"
  }
 },
 "nbformat": 4,
 "nbformat_minor": 5
}
