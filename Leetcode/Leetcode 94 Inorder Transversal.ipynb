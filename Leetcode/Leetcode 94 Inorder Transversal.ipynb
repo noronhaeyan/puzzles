{
 "cells": [
  {
   "cell_type": "code",
   "execution_count": null,
   "id": "fb3aa298",
   "metadata": {},
   "outputs": [],
   "source": [
    "# Definition for a binary tree node.\n",
    "# class TreeNode:\n",
    "#     def __init__(self, val=0, left=None, right=None):\n",
    "#         self.val = val\n",
    "#         self.left = left\n",
    "#         self.right = right\n",
    "class Solution:\n",
    "    def inorderTraversal(self, root: Optional[TreeNode]) -> List[int]:\n",
    "        \n",
    "        output = []\n",
    "        \n",
    "        stack = []\n",
    "        stack.append((root, False))\n",
    "        while stack:\n",
    "            curr, visited = stack.pop()\n",
    "            if not curr:\n",
    "                continue\n",
    "            if not visited:\n",
    "                print(curr.val, visited)\n",
    "                stack.append((curr.right, False))\n",
    "                stack.append((curr, True))\n",
    "                stack.append((curr.left, False))\n",
    "            else:\n",
    "                output.append(curr.val)\n",
    "                \n",
    "        return output"
   ]
  }
 ],
 "metadata": {
  "kernelspec": {
   "display_name": "Python 3 (ipykernel)",
   "language": "python",
   "name": "python3"
  },
  "language_info": {
   "codemirror_mode": {
    "name": "ipython",
    "version": 3
   },
   "file_extension": ".py",
   "mimetype": "text/x-python",
   "name": "python",
   "nbconvert_exporter": "python",
   "pygments_lexer": "ipython3",
   "version": "3.9.2"
  }
 },
 "nbformat": 4,
 "nbformat_minor": 5
}
