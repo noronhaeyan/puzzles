{
 "cells": [
  {
   "cell_type": "code",
   "execution_count": 1,
   "id": "00477a29",
   "metadata": {},
   "outputs": [],
   "source": [
    "from typing import List\n",
    "\n",
    "class Solution:\n",
    "    def deleteAndEarn(self, nums: List[int]) -> int:\n",
    "        \n",
    "        sortedNums = sorted(nums)\n",
    "        \n",
    "        memo = {}\n",
    "        \n",
    "        def dp(arr):\n",
    "            \n",
    "            if str(arr) not in memo:\n",
    "                \n",
    "                # print(\"#################Analyzing the array: \", arr)\n",
    "                \n",
    "                digits = set(arr)\n",
    "                \n",
    "                # print(\"The set of digits is: \", digits)\n",
    "                \n",
    "                max_points = 0\n",
    "                \n",
    "                for digit in digits:\n",
    "                    \n",
    "                    arr1 = [x for x in arr]\n",
    "                    \n",
    "                    # print(\"current digit is: \", digit)\n",
    "                    \n",
    "                    # print(\"curr arr is: \", arr)\n",
    "                    \n",
    "                    arr1.remove(digit) ## buggy\n",
    "                    \n",
    "                    arr2 = [i for i in arr1 if (i!=digit-1) and (i!=digit+1)]\n",
    "                    \n",
    "                    # print(\"The modified arr after removing digit %i is:\" %digit, arr2)\n",
    "                    \n",
    "                    max_points = max(max_points, digit + dp(arr2))\n",
    "                memo[str(arr)] = max_points\n",
    "            \n",
    "            return memo[str(arr)]\n",
    "        \n",
    "        return dp(nums)"
   ]
  },
  {
   "cell_type": "code",
   "execution_count": 47,
   "id": "a747db11",
   "metadata": {},
   "outputs": [],
   "source": [
    "from functools import cache\n",
    "\n",
    "class Solution:\n",
    "    def deleteAndEarn(self, nums: List[int]) -> int:\n",
    "        \n",
    "        points = {}\n",
    "        max_num = 0\n",
    "        \n",
    "        for num in nums:\n",
    "            points[num] = points.get(num, 0) + num\n",
    "            max_num = max(max_num, num)\n",
    "            \n",
    "#         print(\"Max number is %i: \" %max_num)\n",
    "#         print(\"Points: \", points)\n",
    "        \n",
    "        @cache\n",
    "        def dp(num):\n",
    "            \n",
    "            if num == 0:\n",
    "                return 0\n",
    "            \n",
    "            if num == 1:\n",
    "                return points.get(1, 0)\n",
    "            \n",
    "            return max(dp(num-1), dp(num-2) + points.get(num, 0))\n",
    "        \n",
    "        return dp(max_num)"
   ]
  },
  {
   "cell_type": "markdown",
   "id": "985a667d",
   "metadata": {},
   "source": [
    "## Tests"
   ]
  },
  {
   "cell_type": "code",
   "execution_count": 48,
   "id": "d4febff1",
   "metadata": {},
   "outputs": [],
   "source": [
    "aa = Solution()"
   ]
  },
  {
   "cell_type": "code",
   "execution_count": 49,
   "id": "d507e204",
   "metadata": {},
   "outputs": [],
   "source": [
    "nums = [3,4,2]\n",
    "\n",
    "# print(aa.deleteAndEarn(nums))\n",
    "\n",
    "assert aa.deleteAndEarn(nums) == 6"
   ]
  },
  {
   "cell_type": "code",
   "execution_count": 50,
   "id": "83380f3e",
   "metadata": {},
   "outputs": [],
   "source": [
    "nums = [2,2,3,3,3,4]\n",
    "\n",
    "assert aa.deleteAndEarn(nums) == 9"
   ]
  },
  {
   "cell_type": "code",
   "execution_count": 51,
   "id": "7a262e49",
   "metadata": {},
   "outputs": [],
   "source": [
    "nums = [10,8,4,2,1,3,4,8,2,9,10,4,8,5,9,1,5,1,6,8,1,1,6,7,8,9,1,7,6,8,4,5,4,1,5,9,8,6,10,6,4,3,8,4,10,8,8,10,6,4,4,4,9,6,9,10,7,1,5,3,4,4,8,1,1,2,1,4,1,1,4,9,4,7,1,5,1,10,3,5,10,3,10,2,1,10,4,1,1,4,1,2,10,9,7,10,1,2,7,5]\n",
    "\n",
    "assert aa.deleteAndEarn(nums) == 338"
   ]
  },
  {
   "cell_type": "code",
   "execution_count": null,
   "id": "eb74895f",
   "metadata": {},
   "outputs": [],
   "source": []
  }
 ],
 "metadata": {
  "kernelspec": {
   "display_name": "Python 3 (ipykernel)",
   "language": "python",
   "name": "python3"
  },
  "language_info": {
   "codemirror_mode": {
    "name": "ipython",
    "version": 3
   },
   "file_extension": ".py",
   "mimetype": "text/x-python",
   "name": "python",
   "nbconvert_exporter": "python",
   "pygments_lexer": "ipython3",
   "version": "3.9.2"
  }
 },
 "nbformat": 4,
 "nbformat_minor": 5
}
