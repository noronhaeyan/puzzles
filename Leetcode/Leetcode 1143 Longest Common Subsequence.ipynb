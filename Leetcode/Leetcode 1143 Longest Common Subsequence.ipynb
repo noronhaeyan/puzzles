{
 "cells": [
  {
   "cell_type": "code",
   "execution_count": 1,
   "id": "8494ae28",
   "metadata": {},
   "outputs": [],
   "source": [
    "from typing import List\n",
    "from functools import cache\n",
    "\n",
    "class Solution:\n",
    "    def longestCommonSubsequence(self, text1: str, text2: str) -> int:\n",
    "        \n",
    "        n = len(text1)\n",
    "        m = len(text2)\n",
    "        \n",
    "        @cache\n",
    "        def dp(left, right):\n",
    "            \n",
    "            if left == n:\n",
    "                return 0\n",
    "            \n",
    "            if right == m:\n",
    "                return 0\n",
    "            \n",
    "            if text1[left] == text2[right]:\n",
    "                return 1 + dp(left+1, right+1)\n",
    "            \n",
    "            return max(dp(left+1, right), dp(left, right+1))\n",
    "        \n",
    "        return dp(0,0)"
   ]
  },
  {
   "cell_type": "markdown",
   "id": "742ff2d1",
   "metadata": {},
   "source": [
    "## Test"
   ]
  },
  {
   "cell_type": "code",
   "execution_count": 2,
   "id": "b542ea06",
   "metadata": {},
   "outputs": [],
   "source": [
    "aa = Solution()"
   ]
  },
  {
   "cell_type": "code",
   "execution_count": 3,
   "id": "ebb610f3",
   "metadata": {},
   "outputs": [],
   "source": [
    "text1 = \"abcde\"\n",
    "text2 = \"ace\" \n",
    "\n",
    "assert aa.longestCommonSubsequence(text1, text2) == 3"
   ]
  },
  {
   "cell_type": "code",
   "execution_count": 4,
   "id": "6e2a1b34",
   "metadata": {},
   "outputs": [],
   "source": [
    "text1 = \"abc\"\n",
    "text2 = \"abc\"\n",
    "\n",
    "assert aa.longestCommonSubsequence(text1, text2) == 3"
   ]
  },
  {
   "cell_type": "code",
   "execution_count": 5,
   "id": "c9bca98e",
   "metadata": {},
   "outputs": [],
   "source": [
    "text1 = \"abc\"\n",
    "text2 = \"def\"\n",
    "\n",
    "assert aa.longestCommonSubsequence(text1, text2) == 0"
   ]
  },
  {
   "cell_type": "code",
   "execution_count": null,
   "id": "c82a2779",
   "metadata": {},
   "outputs": [],
   "source": []
  }
 ],
 "metadata": {
  "kernelspec": {
   "display_name": "Python 3 (ipykernel)",
   "language": "python",
   "name": "python3"
  },
  "language_info": {
   "codemirror_mode": {
    "name": "ipython",
    "version": 3
   },
   "file_extension": ".py",
   "mimetype": "text/x-python",
   "name": "python",
   "nbconvert_exporter": "python",
   "pygments_lexer": "ipython3",
   "version": "3.9.2"
  }
 },
 "nbformat": 4,
 "nbformat_minor": 5
}
