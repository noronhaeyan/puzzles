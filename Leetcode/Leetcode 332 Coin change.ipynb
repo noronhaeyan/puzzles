{
 "cells": [
  {
   "cell_type": "code",
   "execution_count": 1,
   "id": "a1eb3c12",
   "metadata": {},
   "outputs": [],
   "source": [
    "from typing import List\n",
    "from functools import cache\n",
    "\n",
    "class Solution:\n",
    "    def coinChange(self, coins: List[int], amount: int) -> int:\n",
    "        \n",
    "        coins.sort()\n",
    "        \n",
    "        @cache\n",
    "        def dp(idx, amt):\n",
    "            \n",
    "            if amt == 0:\n",
    "                return 0\n",
    "            \n",
    "            if idx == len(coins):\n",
    "                return -1\n",
    "            \n",
    "            if coins[idx] > amt:\n",
    "                return -1\n",
    "            \n",
    "            output = float('inf')\n",
    "            \n",
    "            count = 0\n",
    "            while amt >= 0:\n",
    "                temp = dp(idx+1, amt)\n",
    "                if temp != -1:\n",
    "                    output = min(output, count+temp)\n",
    "                count += 1\n",
    "                amt -= coins[idx]\n",
    "                \n",
    "            return -1 if output == float('inf') else output\n",
    "        \n",
    "        return dp(0,amount)"
   ]
  },
  {
   "cell_type": "code",
   "execution_count": 2,
   "id": "5602d829",
   "metadata": {},
   "outputs": [],
   "source": [
    "class Solution:\n",
    "    def coinChange(self, coins: List[int], amount: int) -> int:\n",
    "        \n",
    "        @cache\n",
    "        def dp(amt):\n",
    "            print(amt)\n",
    "            \n",
    "            if amt == 0:\n",
    "                return 0\n",
    "            \n",
    "            output = float('inf')\n",
    "            if amt < 0:\n",
    "                return output\n",
    "            \n",
    "            for coin in coins: \n",
    "                output = min(output, dp(amt-coin))\n",
    "                \n",
    "            return output + 1\n",
    "        \n",
    "        output = dp(amount)\n",
    "        \n",
    "        return -1 if output == float('inf') else output"
   ]
  },
  {
   "cell_type": "markdown",
   "id": "402d449f",
   "metadata": {},
   "source": [
    "## Test"
   ]
  },
  {
   "cell_type": "code",
   "execution_count": 3,
   "id": "ec66a4a3",
   "metadata": {},
   "outputs": [],
   "source": [
    "aa = Solution()"
   ]
  },
  {
   "cell_type": "code",
   "execution_count": 4,
   "id": "94bd242c",
   "metadata": {},
   "outputs": [
    {
     "name": "stdout",
     "output_type": "stream",
     "text": [
      "11\n",
      "10\n",
      "9\n",
      "8\n",
      "7\n",
      "6\n",
      "5\n",
      "4\n",
      "3\n",
      "2\n",
      "1\n",
      "0\n",
      "-1\n",
      "-4\n",
      "-3\n",
      "-2\n"
     ]
    }
   ],
   "source": [
    "coins = [1,2,5]\n",
    "amount = 11\n",
    "\n",
    "assert aa.coinChange(coins, amount) == 3"
   ]
  },
  {
   "cell_type": "code",
   "execution_count": 6,
   "id": "09d0d5d7",
   "metadata": {},
   "outputs": [
    {
     "name": "stdout",
     "output_type": "stream",
     "text": [
      "3\n",
      "1\n",
      "-1\n"
     ]
    }
   ],
   "source": [
    "coins = [2]\n",
    "amount = 3\n",
    "\n",
    "assert aa.coinChange(coins, amount) == -1"
   ]
  },
  {
   "cell_type": "code",
   "execution_count": 7,
   "id": "a01ade2f",
   "metadata": {},
   "outputs": [
    {
     "name": "stdout",
     "output_type": "stream",
     "text": [
      "0\n"
     ]
    }
   ],
   "source": [
    "coins = [1]\n",
    "amount = 0\n",
    "\n",
    "assert aa.coinChange(coins, amount) == 0"
   ]
  },
  {
   "cell_type": "code",
   "execution_count": null,
   "id": "a851510e",
   "metadata": {},
   "outputs": [],
   "source": [
    "coins = [2,4,6,8,10,12,14,16,18,20,22,24]\n",
    "amount = 9999\n",
    "\n",
    "aa.coinChange(coins, amount)"
   ]
  },
  {
   "cell_type": "code",
   "execution_count": null,
   "id": "24865ec6",
   "metadata": {},
   "outputs": [],
   "source": []
  }
 ],
 "metadata": {
  "kernelspec": {
   "display_name": "Python 3 (ipykernel)",
   "language": "python",
   "name": "python3"
  },
  "language_info": {
   "codemirror_mode": {
    "name": "ipython",
    "version": 3
   },
   "file_extension": ".py",
   "mimetype": "text/x-python",
   "name": "python",
   "nbconvert_exporter": "python",
   "pygments_lexer": "ipython3",
   "version": "3.9.2"
  }
 },
 "nbformat": 4,
 "nbformat_minor": 5
}
