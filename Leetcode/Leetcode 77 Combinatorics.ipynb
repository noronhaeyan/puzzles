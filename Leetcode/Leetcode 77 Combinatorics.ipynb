{
 "cells": [
  {
   "cell_type": "code",
   "execution_count": 2,
   "id": "113cb015",
   "metadata": {},
   "outputs": [],
   "source": [
    "from typing import List\n",
    "\n",
    "class Solution:\n",
    "    def combine(self, n: int, k: int) -> List[List[int]]:\n",
    "        \n",
    "        output = []\n",
    "        curr = []\n",
    "        \n",
    "        def dfs(start):\n",
    "            if len(curr) == k:\n",
    "                output.append([x for x in curr])\n",
    "                return\n",
    "            \n",
    "            for i in range(start, n):\n",
    "                curr.append(i+1)\n",
    "                dfs(i+1)\n",
    "                curr.pop()\n",
    "         \n",
    "        dfs(0)\n",
    "        return output"
   ]
  },
  {
   "cell_type": "markdown",
   "id": "b82747ee",
   "metadata": {},
   "source": [
    "## Test"
   ]
  },
  {
   "cell_type": "code",
   "execution_count": 3,
   "id": "6b1064cc",
   "metadata": {},
   "outputs": [],
   "source": [
    "aa = Solution()"
   ]
  },
  {
   "cell_type": "code",
   "execution_count": 4,
   "id": "510f813a",
   "metadata": {},
   "outputs": [],
   "source": [
    "n = 4\n",
    "k = 2\n",
    "output = [[1,2],[1,3],[1,4],[2,3],[2,4],[3,4]]\n",
    "\n",
    "assert aa.combine(n,k) == output"
   ]
  },
  {
   "cell_type": "code",
   "execution_count": 5,
   "id": "d2d2fdc8",
   "metadata": {},
   "outputs": [],
   "source": [
    "assert aa.combine(1,1) == [[1]]"
   ]
  }
 ],
 "metadata": {
  "kernelspec": {
   "display_name": "Python 3 (ipykernel)",
   "language": "python",
   "name": "python3"
  },
  "language_info": {
   "codemirror_mode": {
    "name": "ipython",
    "version": 3
   },
   "file_extension": ".py",
   "mimetype": "text/x-python",
   "name": "python",
   "nbconvert_exporter": "python",
   "pygments_lexer": "ipython3",
   "version": "3.9.2"
  }
 },
 "nbformat": 4,
 "nbformat_minor": 5
}
