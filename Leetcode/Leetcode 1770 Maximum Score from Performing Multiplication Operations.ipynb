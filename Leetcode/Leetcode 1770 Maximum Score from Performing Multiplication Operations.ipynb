{
 "cells": [
  {
   "cell_type": "code",
   "execution_count": 33,
   "id": "ed1ffa8f",
   "metadata": {},
   "outputs": [],
   "source": [
    "from typing import List\n",
    "from functools import cache\n",
    "\n",
    "class Solution:\n",
    "    def maximumScore(self, nums: List[int], multipliers: List[int]) -> int:\n",
    "        \n",
    "        n = len(nums)\n",
    "        m = len(multipliers)\n",
    "\n",
    "\n",
    "        @cache\n",
    "        def dp(left, idx, mode = ''):\n",
    "\n",
    "            if idx == m:\n",
    "                return 0\n",
    "            \n",
    "            right = n - 1 - (idx - left)\n",
    "\n",
    "            left_out = nums[left] * multipliers[idx] + dp(left+1, idx+1, mode = mode)\n",
    "            right_out = nums[right] * multipliers[idx] + dp(left, idx+1, mode = mode)\n",
    "            \n",
    "            if mode == 'debug':\n",
    "                print(\"Current index is:\", left, idx)\n",
    "                print(\"Left out is: \", left_out)\n",
    "                print(\"Right out is: \", right_out)\n",
    "            \n",
    "\n",
    "            return max(left_out, right_out)\n",
    "\n",
    "        return dp(0,0)"
   ]
  },
  {
   "cell_type": "markdown",
   "id": "cb31c1f3",
   "metadata": {},
   "source": [
    "## Test"
   ]
  },
  {
   "cell_type": "code",
   "execution_count": 34,
   "id": "c71009ba",
   "metadata": {},
   "outputs": [],
   "source": [
    "aa = Solution()"
   ]
  },
  {
   "cell_type": "code",
   "execution_count": 35,
   "id": "70440132",
   "metadata": {},
   "outputs": [],
   "source": [
    "nums = [1,2,3]\n",
    "multipliers = [3,2,1]\n",
    "\n",
    "assert aa.maximumScore(nums, multipliers) == 14"
   ]
  },
  {
   "cell_type": "code",
   "execution_count": 36,
   "id": "3a615d39",
   "metadata": {},
   "outputs": [],
   "source": [
    "nums = [-5,-3,-3,-2,7,1]\n",
    "multipliers = [-10,-5,3,4,6]\n",
    "\n",
    "assert aa.maximumScore(nums, multipliers) == 102"
   ]
  },
  {
   "cell_type": "code",
   "execution_count": 37,
   "id": "4128da45",
   "metadata": {},
   "outputs": [],
   "source": [
    "nums = [830,388,289,14,-221,610,163,444,-750,-217,-235,-882,746,-907,67,-71,-990,400,-54,-114,-100,233,667,612,-812,-471,-639,-306,-95,524,-198,-520,-652,704,-697,-43,-539,-105,-160,838,499,-109,-977,975,658,-250,593,154,-777,496,747,307,-340,403,-749,-185,721,327,-851,-112,770,-14,754,-242,-220,-776,-66,348,-707,-693,9,-354,741,129,234,638,404,-408,-30,422,-234,818,-627,706,-752,-699,-773,-786,241,432,273,272,-57,878,-149,-547,491,519,870,700,476,-99,902,-878,-237,-549,445,-372,277,-486,872,-569,-687,339,653,-564,862,898,-962,306,668,-143,344,-312,108,-536,-453,-52,627,-225,-28,403,-422,367,133,970,-575,353,347,275,-876,337,594,441,-498,-875,-934,133]\n",
    "multipliers = [3,2,1]\n",
    "\n",
    "assert aa.maximumScore(nums, multipliers) == 3555"
   ]
  },
  {
   "cell_type": "code",
   "execution_count": null,
   "id": "f2ed9654",
   "metadata": {},
   "outputs": [],
   "source": []
  }
 ],
 "metadata": {
  "kernelspec": {
   "display_name": "Python 3 (ipykernel)",
   "language": "python",
   "name": "python3"
  },
  "language_info": {
   "codemirror_mode": {
    "name": "ipython",
    "version": 3
   },
   "file_extension": ".py",
   "mimetype": "text/x-python",
   "name": "python",
   "nbconvert_exporter": "python",
   "pygments_lexer": "ipython3",
   "version": "3.9.2"
  }
 },
 "nbformat": 4,
 "nbformat_minor": 5
}
