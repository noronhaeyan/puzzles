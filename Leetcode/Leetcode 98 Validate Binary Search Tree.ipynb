{
 "cells": [
  {
   "cell_type": "code",
   "execution_count": 1,
   "id": "6c38b49e",
   "metadata": {},
   "outputs": [],
   "source": [
    "from typing import Optional\n",
    "import math\n",
    "\n",
    "class TreeNode:\n",
    "    def __init__(self, val=0, left=None, right=None):\n",
    "        self.val = val\n",
    "        self.left = left\n",
    "        self.right = right\n"
   ]
  },
  {
   "cell_type": "code",
   "execution_count": 2,
   "id": "e89b6739",
   "metadata": {},
   "outputs": [],
   "source": [
    "class Solution:\n",
    "    def isValidBST(self, root: Optional[TreeNode]) -> bool:\n",
    "        \n",
    "        def helper(root, min_value, max_value):\n",
    "            if not root:\n",
    "                return True\n",
    "            \n",
    "            if (root.val >= max_value) or (root.val <= min_value):\n",
    "                return False\n",
    "            \n",
    "            if not root.left:\n",
    "                left_val = - math.inf\n",
    "            else:\n",
    "                left_val = root.left.val\n",
    "                \n",
    "            if not root.right:\n",
    "                right_val = math.inf\n",
    "            else:\n",
    "                right_val = root.right.val\n",
    "            \n",
    "            #print(root.val , left_val)\n",
    "            \n",
    "            if (root.val <= left_val) or (root.val >= right_val):\n",
    "                return False\n",
    "            \n",
    "            return helper(root.left, min_value, root.val) and helper(root.right, root.val, max_value)\n",
    "        \n",
    "        return helper(root, -math.inf, math.inf)"
   ]
  },
  {
   "cell_type": "markdown",
   "id": "e64f7e92",
   "metadata": {},
   "source": [
    "## @Test"
   ]
  },
  {
   "cell_type": "code",
   "execution_count": 3,
   "id": "eb834d59",
   "metadata": {},
   "outputs": [],
   "source": [
    "r1 = TreeNode(val = 1)\n",
    "r2 = TreeNode(val = 2)\n",
    "r3 = TreeNode(val = 3)\n",
    "\n",
    "r2.left = r1\n",
    "r2.right = r3\n",
    "\n",
    "a = Solution()\n",
    "\n",
    "assert a.isValidBST(r2)"
   ]
  },
  {
   "cell_type": "markdown",
   "id": "5f396d89",
   "metadata": {},
   "source": [
    "## @Test"
   ]
  },
  {
   "cell_type": "code",
   "execution_count": 4,
   "id": "9891c531",
   "metadata": {},
   "outputs": [],
   "source": [
    "r1 = TreeNode(val = 1)\n",
    "r6 = TreeNode(val = 6)\n",
    "r3 = TreeNode(val = 3)\n",
    "r4 = TreeNode(val = 4)\n",
    "r5 = TreeNode(val = 5)\n",
    "\n",
    "r5.left = r1\n",
    "r5.right = r4\n",
    "r4.left = r3\n",
    "r4.right = r6\n",
    "\n",
    "a = Solution()\n",
    "\n",
    "assert a.isValidBST(r5) == False"
   ]
  },
  {
   "cell_type": "code",
   "execution_count": null,
   "id": "32866712",
   "metadata": {},
   "outputs": [],
   "source": []
  }
 ],
 "metadata": {
  "kernelspec": {
   "display_name": "Python 3 (ipykernel)",
   "language": "python",
   "name": "python3"
  },
  "language_info": {
   "codemirror_mode": {
    "name": "ipython",
    "version": 3
   },
   "file_extension": ".py",
   "mimetype": "text/x-python",
   "name": "python",
   "nbconvert_exporter": "python",
   "pygments_lexer": "ipython3",
   "version": "3.9.2"
  }
 },
 "nbformat": 4,
 "nbformat_minor": 5
}
