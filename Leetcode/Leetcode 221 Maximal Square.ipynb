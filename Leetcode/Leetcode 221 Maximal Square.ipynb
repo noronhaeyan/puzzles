{
 "cells": [
  {
   "cell_type": "code",
   "execution_count": 4,
   "id": "2e8d40bb",
   "metadata": {},
   "outputs": [],
   "source": [
    "from typing import List\n",
    "\n",
    "class Solution:\n",
    "    def maximalSquare(self, matrix: List[List[str]]) -> int:\n",
    "        \n",
    "        n = len(matrix)\n",
    "        m = len(matrix[0])\n",
    "        \n",
    "        side = 0\n",
    "        flag = False\n",
    "        \n",
    "        for i in range(n):\n",
    "            for j in range(m):\n",
    "                if matrix[i][j] == '1':\n",
    "                    flag = True\n",
    "                    break\n",
    "        \n",
    "        while flag:\n",
    "            side += 1\n",
    "            flag = False\n",
    "            \n",
    "            for i in range(n-side):\n",
    "                for j in range(m-side):\n",
    "                    if matrix[i][j] == '0':\n",
    "                        continue\n",
    "                    if matrix[i+1][j] == '0':\n",
    "                        matrix[i][j] = '0'\n",
    "                        continue\n",
    "                    if matrix[i][j+1] == '0':\n",
    "                        matrix[i][j] = '0'\n",
    "                        continue\n",
    "                    if matrix[i+1][j+1] == '0':\n",
    "                        matrix[i][j] = '0'\n",
    "                        continue\n",
    "                    \n",
    "                    flag = True\n",
    "  \n",
    "        return side*side"
   ]
  },
  {
   "cell_type": "markdown",
   "id": "4431ab94",
   "metadata": {},
   "source": [
    "## Test"
   ]
  },
  {
   "cell_type": "code",
   "execution_count": 5,
   "id": "f9b02ae7",
   "metadata": {},
   "outputs": [],
   "source": [
    "aa = Solution()"
   ]
  },
  {
   "cell_type": "code",
   "execution_count": 7,
   "id": "da926f80",
   "metadata": {},
   "outputs": [],
   "source": [
    "matrix = [[\"1\",\"0\",\"1\",\"0\",\"0\"],[\"1\",\"0\",\"1\",\"1\",\"1\"],[\"1\",\"1\",\"1\",\"1\",\"1\"],[\"1\",\"0\",\"0\",\"1\",\"0\"]]\n",
    "\n",
    "assert aa.maximalSquare(matrix) == 4"
   ]
  },
  {
   "cell_type": "code",
   "execution_count": 8,
   "id": "9e5bb322",
   "metadata": {},
   "outputs": [],
   "source": [
    "matrix = [[\"0\",\"1\"],[\"1\",\"0\"]]\n",
    "\n",
    "assert aa.maximalSquare(matrix) == 1"
   ]
  },
  {
   "cell_type": "code",
   "execution_count": 9,
   "id": "a874b1ab",
   "metadata": {},
   "outputs": [],
   "source": [
    "matrix = [[\"0\"]]\n",
    "\n",
    "assert aa.maximalSquare(matrix) == 0"
   ]
  },
  {
   "cell_type": "code",
   "execution_count": 10,
   "id": "5fb4d0ed",
   "metadata": {},
   "outputs": [],
   "source": [
    "matrix = [[\"1\",\"1\"],[\"1\",\"1\"]]\n",
    "\n",
    "assert aa.maximalSquare(matrix) == 4"
   ]
  }
 ],
 "metadata": {
  "kernelspec": {
   "display_name": "Python 3 (ipykernel)",
   "language": "python",
   "name": "python3"
  },
  "language_info": {
   "codemirror_mode": {
    "name": "ipython",
    "version": 3
   },
   "file_extension": ".py",
   "mimetype": "text/x-python",
   "name": "python",
   "nbconvert_exporter": "python",
   "pygments_lexer": "ipython3",
   "version": "3.9.2"
  }
 },
 "nbformat": 4,
 "nbformat_minor": 5
}
