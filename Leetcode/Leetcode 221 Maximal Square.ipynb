{
 "cells": [
  {
   "cell_type": "code",
   "execution_count": 4,
   "id": "283761e7",
   "metadata": {},
   "outputs": [],
   "source": [
    "from typing import List\n",
    "\n",
    "class Solution:\n",
    "    def maximalSquare(self, matrix: List[List[str]]) -> int:\n",
    "        \n",
    "        n = len(matrix)\n",
    "        m = len(matrix[0])\n",
    "        \n",
    "        side = 0\n",
    "        flag = False\n",
    "        \n",
    "        for i in range(n):\n",
    "            for j in range(m):\n",
    "                if matrix[i][j] == '1':\n",
    "                    flag = True\n",
    "                    break\n",
    "        \n",
    "        while flag:\n",
    "            side += 1\n",
    "            flag = False\n",
    "            \n",
    "            for i in range(n-side):\n",
    "                for j in range(m-side):\n",
    "                    if matrix[i][j] == '0':\n",
    "                        continue\n",
    "                    if matrix[i+1][j] == '0':\n",
    "                        matrix[i][j] = '0'\n",
    "                        continue\n",
    "                    if matrix[i][j+1] == '0':\n",
    "                        matrix[i][j] = '0'\n",
    "                        continue\n",
    "                    if matrix[i+1][j+1] == '0':\n",
    "                        matrix[i][j] = '0'\n",
    "                        continue\n",
    "                    \n",
    "                    flag = True\n",
    "  \n",
    "        return side*side"
   ]
  },
  {
   "cell_type": "markdown",
   "id": "b2d7e9c5",
   "metadata": {},
   "source": [
    "## Test"
   ]
  },
  {
   "cell_type": "code",
   "execution_count": 5,
   "id": "5194c354",
   "metadata": {},
   "outputs": [],
   "source": [
    "aa = Solution()"
   ]
  },
  {
   "cell_type": "code",
   "execution_count": 7,
   "id": "b0595f26",
   "metadata": {},
   "outputs": [],
   "source": [
    "matrix = [[\"1\",\"0\",\"1\",\"0\",\"0\"],[\"1\",\"0\",\"1\",\"1\",\"1\"],[\"1\",\"1\",\"1\",\"1\",\"1\"],[\"1\",\"0\",\"0\",\"1\",\"0\"]]\n",
    "\n",
    "assert aa.maximalSquare(matrix) == 4"
   ]
  },
  {
   "cell_type": "code",
   "execution_count": null,
   "id": "e1611b91",
   "metadata": {},
   "outputs": [],
   "source": []
  }
 ],
 "metadata": {
  "kernelspec": {
   "display_name": "Python 3 (ipykernel)",
   "language": "python",
   "name": "python3"
  },
  "language_info": {
   "codemirror_mode": {
    "name": "ipython",
    "version": 3
   },
   "file_extension": ".py",
   "mimetype": "text/x-python",
   "name": "python",
   "nbconvert_exporter": "python",
   "pygments_lexer": "ipython3",
   "version": "3.9.2"
  }
 },
 "nbformat": 4,
 "nbformat_minor": 5
}
