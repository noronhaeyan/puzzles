{
 "cells": [
  {
   "cell_type": "code",
   "execution_count": 1,
   "id": "c9728761",
   "metadata": {},
   "outputs": [],
   "source": [
    "from typing import List\n",
    "\n",
    "class Solution:\n",
    "    def fullJustify(self, words: List[str], maxWidth: int) -> List[str]:\n",
    "        \n",
    "        def justifyLine(output, currLine, currLen, maxWidth):\n",
    "            \n",
    "            sentence = currLine[0]\n",
    "            if len(currLine) == 1:\n",
    "                output.append(sentence + ' ' * (maxWidth - len(sentence)))\n",
    "                return\n",
    "            \n",
    "            remSpace = maxWidth - currLen\n",
    "            if remSpace == 0:\n",
    "                output.append(\" \".join(currLine))\n",
    "                return\n",
    "                \n",
    "            spaceNum = len(currLine) - 1\n",
    "            \n",
    "            optimalSpace = [remSpace // spaceNum]*spaceNum\n",
    "            \n",
    "            remSpace = remSpace % spaceNum\n",
    "            i = 0\n",
    "            while remSpace > 0:\n",
    "                optimalSpace[i] += 1\n",
    "                remSpace -= 1\n",
    "                i += 1            \n",
    "            for i, word in enumerate(currLine[1:]):\n",
    "                sentence = sentence + \" \" * (optimalSpace[i]+1) + word\n",
    "            \n",
    "            output.append(sentence)\n",
    "            return   \n",
    "        \n",
    "        output = []\n",
    "        \n",
    "        if len(words) == 1:\n",
    "            temp = words[0] + (' ' * (maxWidth - len(words[0])))\n",
    "            output.append(temp)\n",
    "            return output\n",
    "        \n",
    "        currLen = len(words[0])\n",
    "        currLine = [words[0]]\n",
    "        for word in words[1:]:\n",
    "            \n",
    "            if len(word) + currLen + 1 <= maxWidth:\n",
    "                currLine.append(word)\n",
    "                currLen = currLen + 1 + len(word)\n",
    "                continue\n",
    "            \n",
    "            #take in output, currLine, currLen, maxWidth and justify the line\n",
    "            justifyLine(output, currLine, currLen, maxWidth)\n",
    "            currLine = []\n",
    "            currLine.append(word)\n",
    "            currLen = len(word)\n",
    "        \n",
    "        temp = \" \".join(currLine) + (' ' * (maxWidth - currLen))\n",
    "        output.append(temp)\n",
    "            \n",
    "        return output"
   ]
  },
  {
   "cell_type": "markdown",
   "id": "9fccbcb0",
   "metadata": {},
   "source": [
    "## Test"
   ]
  },
  {
   "cell_type": "code",
   "execution_count": 2,
   "id": "4088f24e",
   "metadata": {},
   "outputs": [],
   "source": [
    "a = Solution()"
   ]
  },
  {
   "cell_type": "code",
   "execution_count": 3,
   "id": "e18a308f",
   "metadata": {},
   "outputs": [],
   "source": [
    "words = [\"This\", \"is\", \"an\", \"example\", \"of\", \"text\", \"justification.\"]\n",
    "maxWidth = 16\n",
    "\n",
    "output = [\n",
    "   \"This    is    an\",\n",
    "   \"example  of text\",\n",
    "   \"justification.  \"\n",
    "]\n",
    "\n",
    "assert a.fullJustify(words, maxWidth) == output"
   ]
  },
  {
   "cell_type": "code",
   "execution_count": 4,
   "id": "351f7c7a",
   "metadata": {},
   "outputs": [],
   "source": [
    "words = [\"What\",\"must\",\"be\",\"acknowledgment\",\"shall\",\"be\"]\n",
    "maxWidth = 16\n",
    "\n",
    "output = [\n",
    "  \"What   must   be\",\n",
    "  \"acknowledgment  \",\n",
    "  \"shall be        \"\n",
    "]\n",
    "\n",
    "assert a.fullJustify(words, maxWidth) == output"
   ]
  },
  {
   "cell_type": "code",
   "execution_count": 6,
   "id": "b2366d65",
   "metadata": {},
   "outputs": [],
   "source": [
    "words = [\"Science\",\"is\",\"what\",\"we\",\"understand\",\"well\",\"enough\",\"to\",\"explain\",\"to\",\"a\",\"computer.\",\"Art\",\"is\",\"everything\",\"else\",\"we\",\"do\"]\n",
    "maxWidth = 20\n",
    "\n",
    "output = [\n",
    "  \"Science  is  what we\",\n",
    "  \"understand      well\",\n",
    "  \"enough to explain to\",\n",
    "  \"a  computer.  Art is\",\n",
    "  \"everything  else  we\",\n",
    "  \"do                  \"\n",
    "]\n",
    "\n",
    "assert a.fullJustify(words, maxWidth) == output"
   ]
  }
 ],
 "metadata": {
  "kernelspec": {
   "display_name": "Python 3 (ipykernel)",
   "language": "python",
   "name": "python3"
  },
  "language_info": {
   "codemirror_mode": {
    "name": "ipython",
    "version": 3
   },
   "file_extension": ".py",
   "mimetype": "text/x-python",
   "name": "python",
   "nbconvert_exporter": "python",
   "pygments_lexer": "ipython3",
   "version": "3.9.2"
  }
 },
 "nbformat": 4,
 "nbformat_minor": 5
}
