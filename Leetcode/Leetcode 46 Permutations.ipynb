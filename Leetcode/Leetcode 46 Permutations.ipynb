{
 "cells": [
  {
   "cell_type": "code",
   "execution_count": 2,
   "id": "231dfbef",
   "metadata": {},
   "outputs": [],
   "source": [
    "from typing import List\n",
    "\n",
    "class Solution:\n",
    "    def permute(self, nums: List[int]) -> List[List[int]]:\n",
    "        \n",
    "        output = []\n",
    "        \n",
    "        def backtrack(curr):\n",
    "            \n",
    "            if len(curr) == len(nums):\n",
    "                output.append([x for x in curr])\n",
    "            \n",
    "            for i in nums:\n",
    "                if i in curr:\n",
    "                    continue\n",
    "                curr.append(i)\n",
    "                backtrack(curr)\n",
    "                curr.pop()\n",
    "            \n",
    "            return output\n",
    "        \n",
    "        return backtrack([])\n"
   ]
  },
  {
   "cell_type": "markdown",
   "id": "6697fcd6",
   "metadata": {},
   "source": [
    "## Test"
   ]
  },
  {
   "cell_type": "code",
   "execution_count": 3,
   "id": "6c2c74c2",
   "metadata": {},
   "outputs": [],
   "source": [
    "aa = Solution()"
   ]
  },
  {
   "cell_type": "code",
   "execution_count": 4,
   "id": "459cc646",
   "metadata": {},
   "outputs": [],
   "source": [
    "nums = [1,2,3]\n",
    "output = [[1,2,3],[1,3,2],[2,1,3],[2,3,1],[3,1,2],[3,2,1]]\n",
    "\n",
    "assert aa.permute(nums) == output"
   ]
  },
  {
   "cell_type": "code",
   "execution_count": null,
   "id": "100ccb7a",
   "metadata": {},
   "outputs": [],
   "source": [
    "nums = [0,1]\n",
    "output = [[0,1],[1,0]]"
   ]
  }
 ],
 "metadata": {
  "kernelspec": {
   "display_name": "Python 3 (ipykernel)",
   "language": "python",
   "name": "python3"
  },
  "language_info": {
   "codemirror_mode": {
    "name": "ipython",
    "version": 3
   },
   "file_extension": ".py",
   "mimetype": "text/x-python",
   "name": "python",
   "nbconvert_exporter": "python",
   "pygments_lexer": "ipython3",
   "version": "3.9.2"
  }
 },
 "nbformat": 4,
 "nbformat_minor": 5
}
