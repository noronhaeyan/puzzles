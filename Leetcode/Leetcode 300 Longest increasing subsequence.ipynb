{
 "cells": [
  {
   "cell_type": "code",
   "execution_count": 1,
   "id": "f505d08b",
   "metadata": {},
   "outputs": [],
   "source": [
    "from typing import List\n",
    "from functools import cache\n",
    "\n",
    "class Solution:\n",
    "    def lengthOfLIS(self, nums: List[int]) -> int:\n",
    "        \n",
    "        n = len(nums)\n",
    "        \n",
    "        @cache\n",
    "        def dp(idx):\n",
    "            \n",
    "            # print(\"For idx: \", idx)\n",
    "            \n",
    "            curr_val = out_val = nums[idx]\n",
    "            curr_len = out_len = 1\n",
    "            for i in range(idx + 1, n):\n",
    "                \n",
    "                prev_val, prev_len = dp(i)\n",
    "                \n",
    "                if curr_val == prev_val:\n",
    "                    if prev_len > out_len:\n",
    "                        out_val = curr_val\n",
    "                        out_len = prev_len\n",
    "                    \n",
    "                elif curr_val < prev_val:\n",
    "                    if out_len <= prev_len + 1:\n",
    "                        out_val = curr_val\n",
    "                        out_len = prev_len + 1\n",
    "                        \n",
    "                else:\n",
    "                    if out_len < prev_len:\n",
    "                        out_val = prev_val\n",
    "                        out_len = prev_len\n",
    "                        \n",
    "            print(\"For idx: \", idx)\n",
    "            \n",
    "            print(\"out_val: %i, out_len: %i\" %(out_val, out_len))\n",
    "            \n",
    "            return out_val, out_len\n",
    "        \n",
    "        return dp(0)[1]          \n",
    "        "
   ]
  },
  {
   "cell_type": "code",
   "execution_count": 16,
   "id": "7442e9d3",
   "metadata": {},
   "outputs": [],
   "source": [
    "class Solution:\n",
    "    def lengthOfLIS(self, nums: List[int]) -> int:\n",
    "        \n",
    "        n = len(nums)\n",
    "        \n",
    "        @cache\n",
    "        def dp(idx):\n",
    "            \n",
    "            output = 1\n",
    "            \n",
    "            for i in range(idx+1, n):\n",
    "                if nums[idx] < nums[i]:\n",
    "                    output = max(output, dp(i)+1)\n",
    "            \n",
    "            print(idx, output)\n",
    "            return output\n",
    "        \n",
    "        output = 0\n",
    "        \n",
    "        for i in range(n):\n",
    "            output = max(output, dp(i))\n",
    "        \n",
    "        return output"
   ]
  },
  {
   "cell_type": "markdown",
   "id": "620c6b1f",
   "metadata": {},
   "source": [
    "## Test"
   ]
  },
  {
   "cell_type": "code",
   "execution_count": 17,
   "id": "6cc05785",
   "metadata": {},
   "outputs": [],
   "source": [
    "aa = Solution()"
   ]
  },
  {
   "cell_type": "code",
   "execution_count": 18,
   "id": "c3850c0f",
   "metadata": {},
   "outputs": [
    {
     "name": "stdout",
     "output_type": "stream",
     "text": [
      "6 1\n",
      "7 1\n",
      "0 2\n",
      "1 2\n",
      "5 2\n",
      "3 3\n",
      "4 3\n",
      "2 4\n"
     ]
    },
    {
     "data": {
      "text/plain": [
       "True"
      ]
     },
     "execution_count": 18,
     "metadata": {},
     "output_type": "execute_result"
    }
   ],
   "source": [
    "nums = [10,9,2,5,3,7,101,18]\n",
    "\n",
    "aa.lengthOfLIS(nums) == 4"
   ]
  },
  {
   "cell_type": "code",
   "execution_count": null,
   "id": "f8cd4b40",
   "metadata": {},
   "outputs": [],
   "source": [
    "nums = [0,1,0,3,2,3]\n",
    "\n",
    "assert aa.lengthOfLIS(nums) == 4"
   ]
  },
  {
   "cell_type": "code",
   "execution_count": null,
   "id": "478f255c",
   "metadata": {},
   "outputs": [],
   "source": [
    "nums = [7,7,7,7,7,7,7]\n",
    "\n",
    "assert aa.lengthOfLIS(nums) == 1"
   ]
  }
 ],
 "metadata": {
  "kernelspec": {
   "display_name": "Python 3 (ipykernel)",
   "language": "python",
   "name": "python3"
  },
  "language_info": {
   "codemirror_mode": {
    "name": "ipython",
    "version": 3
   },
   "file_extension": ".py",
   "mimetype": "text/x-python",
   "name": "python",
   "nbconvert_exporter": "python",
   "pygments_lexer": "ipython3",
   "version": "3.9.2"
  }
 },
 "nbformat": 4,
 "nbformat_minor": 5
}
